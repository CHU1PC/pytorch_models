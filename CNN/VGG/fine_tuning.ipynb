{
 "cells": [
  {
   "cell_type": "code",
   "execution_count": 1,
   "id": "8b13764e",
   "metadata": {},
   "outputs": [],
   "source": [
    "import os\n",
    "import sys\n",
    "import pandas as pd\n",
    "import numpy as np\n",
    "import time\n",
    "import warnings\n",
    "import pickle\n",
    "\n",
    "from tqdm import tqdm\n",
    "\n",
    "warnings.filterwarnings(\"ignore\")"
   ]
  },
  {
   "cell_type": "code",
   "execution_count": 2,
   "id": "7228cb9d",
   "metadata": {},
   "outputs": [],
   "source": [
    "import torch\n",
    "import torch.nn as nn\n",
    "import torch.optim as optim\n",
    "from torch.utils.data import DataLoader, TensorDataset\n",
    "\n",
    "from sklearn.model_selection import GridSearchCV, train_test_split\n",
    "from sklearn.linear_model import LogisticRegression\n",
    "from sklearn.metrics import classification_report\n",
    "from sklearn.pipeline import Pipeline\n",
    "\n",
    "sys.path.append(\"../../\")\n",
    "\n",
    "from utils import DATA_DIR  # noqa"
   ]
  },
  {
   "cell_type": "code",
   "execution_count": 3,
   "id": "e4a83e33",
   "metadata": {},
   "outputs": [],
   "source": [
    "device = torch.device(\"mps\" if torch.backends.mps.is_available() else \"cpu\")"
   ]
  },
  {
   "cell_type": "code",
   "execution_count": 4,
   "id": "cda33cb9",
   "metadata": {},
   "outputs": [],
   "source": [
    "def unpickle(file):\n",
    "    with open(file, \"rb\") as fo:\n",
    "        d = pickle.load(fo, encoding=\"bytes\")\n",
    "    return d\n",
    "\n",
    "def load_cifar(filenames):\n",
    "    train_images = []\n",
    "    train_labels = []\n",
    "\n",
    "    for file_name in filenames:\n",
    "        unpickled_images = unpickle(file_name)\n",
    "        images, labels = unpickled_images[b\"data\"], unpickled_images[b\"labels\"]\n",
    "        images = np.reshape(images, (-1, 3, 32, 32))\n",
    "        images = np.transpose(images, (0, 2, 3, 1))\n",
    "        train_images.append(images)\n",
    "        train_labels += labels\n",
    "\n",
    "    return np.vstack(train_images), train_labels"
   ]
  },
  {
   "cell_type": "code",
   "execution_count": 5,
   "id": "cf2be239",
   "metadata": {},
   "outputs": [
    {
     "name": "stdout",
     "output_type": "stream",
     "text": [
      "Loading the training set\n",
      "Loading the testing set\n",
      "Loading the labels\n"
     ]
    }
   ],
   "source": [
    "print(\"Loading the training set\")\n",
    "train_files = [f\"../../data/cifar-10/data_batch_{i}\" for i in range(1, 6)]\n",
    "train_images, int_train_labels = load_cifar(train_files)\n",
    "\n",
    "print(\"Loading the testing set\")\n",
    "test_files = [\"../../data/cifar-10/test_batch\"]\n",
    "test_images, int_test_labels = load_cifar(test_files)\n",
    "\n",
    "print(\"Loading the labels\")\n",
    "label_names = unpickle(\"../../data/cifar-10/batches.meta\")[b\"label_names\"]\n",
    "\n",
    "train_labels = [str(label_names[_]) for _ in int_train_labels]\n",
    "test_labels = [str(label_names[_]) for _ in int_test_labels]"
   ]
  },
  {
   "cell_type": "code",
   "execution_count": 6,
   "id": "eed7c1c5",
   "metadata": {},
   "outputs": [],
   "source": [
    "import torchvision.models as models\n",
    "\n",
    "vgg = models.vgg16(pretrained=True)\n",
    "vgg.classifier[-1].out_features = 10\n",
    "\n",
    "normalized_train_images = (train_images / 255 - [0.485, 0.456, 0.406]) / [0.229, 0.224, 0.225]\n",
    "normalized_test_images = (test_images / 255 - [0.485, 0.456, 0.406]) / [0.229, 0.224, 0.225]"
   ]
  },
  {
   "cell_type": "code",
   "execution_count": 7,
   "id": "747a1ab5",
   "metadata": {},
   "outputs": [],
   "source": [
    "train_images_tensor = torch.Tensor(normalized_train_images.transpose(0, 3, 1, 2))\n",
    "train_labels_tensor = torch.Tensor(int_train_labels).type(torch.LongTensor)\n",
    "train_dataset = TensorDataset(train_images_tensor, train_labels_tensor)\n",
    "train_loader = DataLoader(\n",
    "    train_dataset,\n",
    "    batch_size=2048,\n",
    "    shuffle=True\n",
    ")\n",
    "\n",
    "test_images_tensor = torch.Tensor(normalized_test_images.transpose(0, 3, 1, 2))\n",
    "test_labels_tensor = torch.Tensor(int_test_labels).type(torch.LongTensor)\n",
    "test_dataset = TensorDataset(test_images_tensor, test_labels_tensor)\n",
    "test_loader = DataLoader(\n",
    "    test_dataset,\n",
    "    batch_size=2048,\n",
    "    shuffle=False\n",
    ")"
   ]
  },
  {
   "cell_type": "code",
   "execution_count": 8,
   "id": "584d876b",
   "metadata": {},
   "outputs": [
    {
     "data": {
      "text/plain": [
       "VGG(\n",
       "  (features): Sequential(\n",
       "    (0): Conv2d(3, 64, kernel_size=(3, 3), stride=(1, 1), padding=(1, 1))\n",
       "    (1): ReLU(inplace=True)\n",
       "    (2): Conv2d(64, 64, kernel_size=(3, 3), stride=(1, 1), padding=(1, 1))\n",
       "    (3): ReLU(inplace=True)\n",
       "    (4): MaxPool2d(kernel_size=2, stride=2, padding=0, dilation=1, ceil_mode=False)\n",
       "    (5): Conv2d(64, 128, kernel_size=(3, 3), stride=(1, 1), padding=(1, 1))\n",
       "    (6): ReLU(inplace=True)\n",
       "    (7): Conv2d(128, 128, kernel_size=(3, 3), stride=(1, 1), padding=(1, 1))\n",
       "    (8): ReLU(inplace=True)\n",
       "    (9): MaxPool2d(kernel_size=2, stride=2, padding=0, dilation=1, ceil_mode=False)\n",
       "    (10): Conv2d(128, 256, kernel_size=(3, 3), stride=(1, 1), padding=(1, 1))\n",
       "    (11): ReLU(inplace=True)\n",
       "    (12): Conv2d(256, 256, kernel_size=(3, 3), stride=(1, 1), padding=(1, 1))\n",
       "    (13): ReLU(inplace=True)\n",
       "    (14): Conv2d(256, 256, kernel_size=(3, 3), stride=(1, 1), padding=(1, 1))\n",
       "    (15): ReLU(inplace=True)\n",
       "    (16): MaxPool2d(kernel_size=2, stride=2, padding=0, dilation=1, ceil_mode=False)\n",
       "    (17): Conv2d(256, 512, kernel_size=(3, 3), stride=(1, 1), padding=(1, 1))\n",
       "    (18): ReLU(inplace=True)\n",
       "    (19): Conv2d(512, 512, kernel_size=(3, 3), stride=(1, 1), padding=(1, 1))\n",
       "    (20): ReLU(inplace=True)\n",
       "    (21): Conv2d(512, 512, kernel_size=(3, 3), stride=(1, 1), padding=(1, 1))\n",
       "    (22): ReLU(inplace=True)\n",
       "    (23): MaxPool2d(kernel_size=2, stride=2, padding=0, dilation=1, ceil_mode=False)\n",
       "    (24): Conv2d(512, 512, kernel_size=(3, 3), stride=(1, 1), padding=(1, 1))\n",
       "    (25): ReLU(inplace=True)\n",
       "    (26): Conv2d(512, 512, kernel_size=(3, 3), stride=(1, 1), padding=(1, 1))\n",
       "    (27): ReLU(inplace=True)\n",
       "    (28): Conv2d(512, 512, kernel_size=(3, 3), stride=(1, 1), padding=(1, 1))\n",
       "    (29): ReLU(inplace=True)\n",
       "    (30): MaxPool2d(kernel_size=2, stride=2, padding=0, dilation=1, ceil_mode=False)\n",
       "  )\n",
       "  (avgpool): AdaptiveAvgPool2d(output_size=(7, 7))\n",
       "  (classifier): Sequential(\n",
       "    (0): Linear(in_features=25088, out_features=4096, bias=True)\n",
       "    (1): ReLU(inplace=True)\n",
       "    (2): Dropout(p=0.5, inplace=False)\n",
       "    (3): Linear(in_features=4096, out_features=4096, bias=True)\n",
       "    (4): ReLU(inplace=True)\n",
       "    (5): Dropout(p=0.5, inplace=False)\n",
       "    (6): Linear(in_features=4096, out_features=10, bias=True)\n",
       "  )\n",
       ")"
      ]
     },
     "execution_count": 8,
     "metadata": {},
     "output_type": "execute_result"
    }
   ],
   "source": [
    "for layer in vgg.classifier:\n",
    "    if hasattr(layer, \"weight\"):\n",
    "        nn.init.xavier_uniform_(layer.weight)\n",
    "    if hasattr(layer, \"bias\"):\n",
    "        nn.init.constant_(layer.bias.data, 0)\n",
    "\n",
    "vgg.to(device)"
   ]
  },
  {
   "cell_type": "code",
   "execution_count": null,
   "id": "11cc1f30",
   "metadata": {},
   "outputs": [
    {
     "name": "stderr",
     "output_type": "stream",
     "text": [
      " 20%|██        | 3/15 [01:37<06:30, 32.52s/it]"
     ]
    },
    {
     "name": "stdout",
     "output_type": "stream",
     "text": [
      "Epoch 3: Train Loss = 0.0221, Train Acc = 99.37%\n",
      "validation loss: 0.0023, validation Acc: 0.85%\n",
      "\n"
     ]
    },
    {
     "name": "stderr",
     "output_type": "stream",
     "text": [
      " 40%|████      | 6/15 [03:14<04:51, 32.44s/it]"
     ]
    },
    {
     "name": "stdout",
     "output_type": "stream",
     "text": [
      "Epoch 6: Train Loss = 0.0074, Train Acc = 99.85%\n",
      "validation loss: 0.0025, validation Acc: 0.86%\n",
      "\n"
     ]
    },
    {
     "name": "stderr",
     "output_type": "stream",
     "text": [
      " 60%|██████    | 9/15 [04:55<03:19, 33.25s/it]"
     ]
    },
    {
     "name": "stdout",
     "output_type": "stream",
     "text": [
      "Epoch 9: Train Loss = 0.0016, Train Acc = 99.98%\n",
      "validation loss: 0.0027, validation Acc: 0.86%\n",
      "\n"
     ]
    },
    {
     "name": "stderr",
     "output_type": "stream",
     "text": [
      " 80%|████████  | 12/15 [06:36<01:40, 33.55s/it]"
     ]
    },
    {
     "name": "stdout",
     "output_type": "stream",
     "text": [
      "Epoch 12: Train Loss = 0.0007, Train Acc = 99.99%\n",
      "validation loss: 0.0029, validation Acc: 0.86%\n",
      "\n"
     ]
    },
    {
     "name": "stderr",
     "output_type": "stream",
     "text": [
      "100%|██████████| 15/15 [08:19<00:00, 33.30s/it]"
     ]
    },
    {
     "name": "stdout",
     "output_type": "stream",
     "text": [
      "Epoch 15: Train Loss = 0.0004, Train Acc = 100.00%\n",
      "validation loss: 0.0031, validation Acc: 0.86%\n",
      "\n"
     ]
    },
    {
     "name": "stderr",
     "output_type": "stream",
     "text": [
      "\n"
     ]
    }
   ],
   "source": [
    "criterion = nn.CrossEntropyLoss()\n",
    "optimizer = optim.SGD(vgg.parameters(), lr=0.01, momentum=0.9)\n",
    "\n",
    "\n",
    "num_epochs = 9\n",
    "vgg.train()\n",
    "for epoch in tqdm(range(num_epochs)):\n",
    "    batch_loss = 0\n",
    "    correct = 0\n",
    "    num_batches = 0\n",
    "\n",
    "    for batch_emb, batch_labels in train_loader:\n",
    "        batch_emb = batch_emb.to(device)\n",
    "        batch_labels = batch_labels.to(device)\n",
    "\n",
    "        optimizer.zero_grad()\n",
    "\n",
    "        output = vgg(batch_emb)\n",
    "        loss = criterion(output, batch_labels)\n",
    "\n",
    "        loss.backward()\n",
    "        optimizer.step()\n",
    "\n",
    "        batch_loss += loss.item()\n",
    "        _, pred = torch.max(output, dim=1)\n",
    "        correct += torch.sum(pred == batch_labels).item()\n",
    "        num_batches += batch_labels.size(0)\n",
    "\n",
    "    avg_loss = batch_loss / len(train_loader)\n",
    "    accuracy = 100 * correct / num_batches\n",
    "\n",
    "\n",
    "    batch_loss = 0\n",
    "    total_t = 0\n",
    "    correct_t = 0\n",
    "    with torch.no_grad():\n",
    "        vgg.eval()\n",
    "\n",
    "        for data_t, target_t in test_loader:\n",
    "            data_t, target_t = data_t.to(device), target_t.to(device)\n",
    "\n",
    "            outputs_t = vgg(data_t)\n",
    "            loss_t = criterion(outputs_t, target_t)\n",
    "            batch_loss += loss_t.item()\n",
    "            _, pred_t = torch.max(outputs_t, dim=1)\n",
    "\n",
    "            correct_t = torch.sum(pred_t == target_t).item()\n",
    "            total_t = target_t.size(0)\n",
    "\n",
    "        avg_val_loss = batch_loss / total_t\n",
    "\n",
    "\n",
    "    if (epoch + 1) % 3 == 0:\n",
    "        print(f\"Epoch {epoch+1}: Train Loss = {avg_loss:.4f}, Train Acc = {accuracy:.2f}%\")\n",
    "        print(f\"validation loss: {avg_val_loss:.4f}, validation Acc: {(correct_t/total_t):.2f}%\\n\")\n"
   ]
  },
  {
   "cell_type": "code",
   "execution_count": 19,
   "id": "e9f64a73",
   "metadata": {},
   "outputs": [
    {
     "name": "stdout",
     "output_type": "stream",
     "text": [
      "=== Final Test Results ===\n",
      "              precision    recall  f1-score   support\n",
      "\n",
      "    airplane       0.88      0.90      0.89      1000\n",
      "  automobile       0.92      0.94      0.93      1000\n",
      "        bird       0.81      0.82      0.82      1000\n",
      "         cat       0.73      0.73      0.73      1000\n",
      "        deer       0.83      0.84      0.84      1000\n",
      "         dog       0.78      0.79      0.78      1000\n",
      "        frog       0.91      0.90      0.90      1000\n",
      "       horse       0.89      0.87      0.88      1000\n",
      "        ship       0.93      0.93      0.93      1000\n",
      "       truck       0.94      0.92      0.93      1000\n",
      "\n",
      "    accuracy                           0.86     10000\n",
      "   macro avg       0.86      0.86      0.86     10000\n",
      "weighted avg       0.86      0.86      0.86     10000\n",
      "\n"
     ]
    }
   ],
   "source": [
    "vgg.eval()\n",
    "y_true = []\n",
    "y_pred = []\n",
    "\n",
    "with torch.no_grad():\n",
    "    for data_t, target_t in test_loader:\n",
    "        data_t, target_t = data_t.to(device), target_t.to(device)\n",
    "        \n",
    "        outputs_t = vgg(data_t)\n",
    "        _, pred_t = torch.max(outputs_t, dim=1)\n",
    "        \n",
    "        # CPUに移動してからリストに追加\n",
    "        y_true.extend(target_t.cpu().numpy())\n",
    "        y_pred.extend(pred_t.cpu().numpy())\n",
    "\n",
    "# 分類レポート\n",
    "print(\"=== Final Test Results ===\")\n",
    "print(classification_report(y_true, y_pred, \n",
    "                           target_names=[label.decode() for label in label_names]))"
   ]
  },
  {
   "cell_type": "code",
   "execution_count": null,
   "id": "abfdf90a",
   "metadata": {},
   "outputs": [],
   "source": []
  },
  {
   "cell_type": "code",
   "execution_count": null,
   "id": "f5d2a357",
   "metadata": {},
   "outputs": [],
   "source": []
  }
 ],
 "metadata": {
  "kernelspec": {
   "display_name": "pytorch_models",
   "language": "python",
   "name": "python3"
  },
  "language_info": {
   "codemirror_mode": {
    "name": "ipython",
    "version": 3
   },
   "file_extension": ".py",
   "mimetype": "text/x-python",
   "name": "python",
   "nbconvert_exporter": "python",
   "pygments_lexer": "ipython3",
   "version": "3.12.9"
  }
 },
 "nbformat": 4,
 "nbformat_minor": 5
}
