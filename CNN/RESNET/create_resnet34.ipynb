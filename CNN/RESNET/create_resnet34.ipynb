{
 "cells": [
  {
   "cell_type": "code",
   "execution_count": 1,
   "id": "32f80090",
   "metadata": {},
   "outputs": [],
   "source": [
    "import torch\n",
    "import torch.nn as nn\n",
    "import torch.nn.functional as F\n",
    "import torch.optim as optim\n",
    "from torch.utils.data import DataLoader\n",
    "\n",
    "from torchvision import datasets, transforms\n",
    "\n",
    "from typing import Type"
   ]
  },
  {
   "cell_type": "code",
   "execution_count": 2,
   "id": "15de3f7f",
   "metadata": {},
   "outputs": [],
   "source": [
    "train_transform = transforms.Compose([\n",
    "    transforms.RandomCrop(size=32, padding=4),\n",
    "    transforms.RandomHorizontalFlip(p=0.5),\n",
    "    transforms.ColorJitter(brightness=0.4, contrast=0.4, saturation=0.4, hue=0.1),\n",
    "\n",
    "    transforms.ToTensor(),\n",
    "    transforms.Normalize((0.4914, 0.4822, 0.4465),\n",
    "                         (0.2470, 0.2435, 0.2616))\n",
    "])\n",
    "\n",
    "test_transform = transforms.Compose([\n",
    "    transforms.ToTensor(),\n",
    "    transforms.Normalize(mean=(0.4914, 0.4822, 0.4465),\n",
    "                         std=(0.2470, 0.2435, 0.2616))\n",
    "])"
   ]
  },
  {
   "cell_type": "code",
   "execution_count": 3,
   "id": "5c2ca720",
   "metadata": {},
   "outputs": [],
   "source": [
    "train = datasets.CIFAR10(\"../../data\", train=True, transform=train_transform,\n",
    "                         download=True)\n",
    "test = datasets.CIFAR10(\"../../data\", train=False, transform=test_transform,\n",
    "                        download=True)"
   ]
  },
  {
   "cell_type": "code",
   "execution_count": 4,
   "id": "818b47b1",
   "metadata": {},
   "outputs": [],
   "source": [
    "train_dataloader = DataLoader(train, batch_size=64, shuffle=True, num_workers=12,\n",
    "                              generator=torch.Generator().manual_seed(42))\n",
    "\n",
    "test_dataloader = DataLoader(test, batch_size=64, shuffle=False, num_workers=12,\n",
    "                             generator=torch.Generator().manual_seed(42))"
   ]
  },
  {
   "cell_type": "code",
   "execution_count": null,
   "id": "299b1faa",
   "metadata": {},
   "outputs": [],
   "source": [
    "# ループを行うResident Blockを作る\n",
    "\n",
    "class BasicBlock(nn.Module):\n",
    "    expansion = 1\n",
    "    def __init__(self, in_channel, out_channel, stride=1):\n",
    "        super().__init__()\n",
    "\n",
    "        # BatchNormを適用する際biasは無効化されるため最初からFalseにしておく\n",
    "\n",
    "        # First Layer\n",
    "        self.conv1 = nn.Conv2d(in_channel, out_channel, kernel_size=3,\n",
    "                               stride=stride, padding=1, bias=False)\n",
    "        self.batch_norm1 = nn.BatchNorm2d(out_channel)\n",
    "\n",
    "        # Second Layer\n",
    "        self.conv2 = nn.Conv2d(out_channel, out_channel, kernel_size=3,\n",
    "                               stride=1, padding=1, bias=False)\n",
    "        self.batch_norm2 = nn.BatchNorm2d(out_channel)\n",
    "\n",
    "        self.downsample = None\n",
    "\n",
    "        # strideが1ではないせいでダウンサンプリングが生じる場合や\n",
    "        # in_channelとout_channelが違うせいで特徴量マップの数が違う場合,\n",
    "        # スキップ構造の元のxとConvやBatchNormで変換されたoutを\n",
    "        # ブロードキャストできるように元のxを変換する\n",
    "        if stride != 1 or in_channel != out_channel:\n",
    "            self.downsample = nn.Sequential(\n",
    "                nn.Conv2d(in_channel, out_channel, kernel_size=1,\n",
    "                          stride=stride, bias=False),\n",
    "                nn.BatchNorm2d(out_channel)\n",
    "            )\n",
    "\n",
    "    def forward(self, x):\n",
    "        identity = x\n",
    "\n",
    "        out = self.conv1(x)\n",
    "        out = self.batch_norm1(out)\n",
    "        out = F.relu(out)\n",
    "\n",
    "        out = self.conv2(out)\n",
    "        out = self.batch_norm2(out)\n",
    "\n",
    "        if self.downsample is not None:\n",
    "            identity = self.downsample(identity)\n",
    "        out = out + identity\n",
    "\n",
    "        out = F.relu(out)\n",
    "        return out"
   ]
  },
  {
   "cell_type": "code",
   "execution_count": 6,
   "id": "8c7d50ad",
   "metadata": {},
   "outputs": [],
   "source": [
    "class ResNet(nn.Module):\n",
    "    def __init__(self, block: Type[BasicBlock], num_block: list, num_classes=10):\n",
    "        super().__init__()\n",
    "\n",
    "        self.in_channels = 64\n",
    "\n",
    "        # 入力層\n",
    "        self.conv1 = nn.Conv2d(3, 64, kernel_size=3, stride=1, padding=1, bias=False)\n",
    "        self.batch_norm1 = nn.BatchNorm2d(64)\n",
    "\n",
    "        # 中間層(Layer 1~4)\n",
    "        # 解像度を下げる代わりにchannel数を増やしてより表現力を高める\n",
    "        self.layer1 = self._make_layer(block, 64, num_block[0], 1)\n",
    "        self.layer2 = self._make_layer(block, 128, num_block[1], 2)\n",
    "        self.layer3 = self._make_layer(block, 256, num_block[2], 2)\n",
    "        self.layer4 = self._make_layer(block, 512, num_block[3], 2)\n",
    "\n",
    "        self.fc = nn.Linear(512*block.expansion, num_classes)\n",
    "\n",
    "    def _make_layer(self, block: Type[BasicBlock], out_channel, num_blocks, stride):\n",
    "        stride = [stride] + [1] * (num_blocks - 1)\n",
    "        layers = []\n",
    "        for s in stride:\n",
    "            layers.append(block(self.in_channels, out_channel, s))\n",
    "            self.in_channels = out_channel * block.expansion\n",
    "        return nn.Sequential(*layers)\n",
    "\n",
    "    def forward(self, x):\n",
    "        out = self.conv1(x)\n",
    "        out = self.batch_norm1(out)\n",
    "        out = F.relu(out)\n",
    "\n",
    "        out = self.layer1(out)\n",
    "        out = self.layer2(out)\n",
    "        out = self.layer3(out)\n",
    "        out = self.layer4(out)\n",
    "\n",
    "        # adaptive_avg_pool2dで解像度を1x1に変換する\n",
    "        out = F.adaptive_avg_pool2d(out, (1, 1))\n",
    "        out = torch.flatten(out, 1)\n",
    "        out = self.fc(out)# adaptive_avg_pool2dによって解像度が1x1になったため、Linearの入力は512でいい\n",
    "        return out"
   ]
  },
  {
   "cell_type": "code",
   "execution_count": 7,
   "id": "37e5f003",
   "metadata": {},
   "outputs": [
    {
     "name": "stdout",
     "output_type": "stream",
     "text": [
      "mps\n"
     ]
    }
   ],
   "source": [
    "device = torch.device(\"mps\" if torch.backends.mps.is_available() else \"cpu\")\n",
    "print(device)\n",
    "\n",
    "model = ResNet(BasicBlock, [3, 4, 6, 3]).to(device)\n",
    "optimizer = optim.Adam(model.parameters(), lr=1e-3)\n",
    "criterion = nn.CrossEntropyLoss()"
   ]
  },
  {
   "cell_type": "code",
   "execution_count": 12,
   "id": "ab729355",
   "metadata": {},
   "outputs": [],
   "source": [
    "def train_loop(model, dataloader, optimizer, criterion):\n",
    "    model.train()\n",
    "\n",
    "    for i, (X, y) in enumerate(dataloader):\n",
    "        optimizer.zero_grad()\n",
    "        X, y = X.to(device), y.to(device)\n",
    "\n",
    "        pred = model(X)\n",
    "        loss = criterion(pred, y)\n",
    "        loss.backward()\n",
    "        optimizer.step()\n",
    "\n",
    "        if i % 100 == 0 or i == 0:\n",
    "            print(f\"{i}/{len(dataloader)} Loss: {loss.item()}\")"
   ]
  },
  {
   "cell_type": "code",
   "execution_count": 13,
   "id": "435ab4dd",
   "metadata": {},
   "outputs": [
    {
     "name": "stdout",
     "output_type": "stream",
     "text": [
      "0/782 Loss: 1.2267749309539795\n",
      "100/782 Loss: 1.5665042400360107\n",
      "200/782 Loss: 0.9458857178688049\n",
      "300/782 Loss: 1.0337421894073486\n",
      "400/782 Loss: 0.9505584239959717\n",
      "500/782 Loss: 0.8843657374382019\n",
      "600/782 Loss: 0.9213059544563293\n",
      "700/782 Loss: 1.0390369892120361\n"
     ]
    }
   ],
   "source": [
    "train_loop(model, train_dataloader, optimizer, criterion)"
   ]
  },
  {
   "cell_type": "code",
   "execution_count": null,
   "id": "03a2b2d3",
   "metadata": {},
   "outputs": [],
   "source": []
  }
 ],
 "metadata": {
  "kernelspec": {
   "display_name": "pytorch_models",
   "language": "python",
   "name": "python3"
  },
  "language_info": {
   "codemirror_mode": {
    "name": "ipython",
    "version": 3
   },
   "file_extension": ".py",
   "mimetype": "text/x-python",
   "name": "python",
   "nbconvert_exporter": "python",
   "pygments_lexer": "ipython3",
   "version": "3.12.9"
  }
 },
 "nbformat": 4,
 "nbformat_minor": 5
}
