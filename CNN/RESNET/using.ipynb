{
 "cells": [
  {
   "cell_type": "code",
   "execution_count": 1,
   "id": "aad911e0",
   "metadata": {},
   "outputs": [],
   "source": [
    "import torch\n",
    "from torchvision import models"
   ]
  },
  {
   "cell_type": "code",
   "execution_count": 2,
   "id": "2c0a9106",
   "metadata": {},
   "outputs": [],
   "source": [
    "resnet = models.resnet101(weights=models.ResNet101_Weights.DEFAULT)\n",
    "\n",
    "preprocess = models.ResNet101_Weights.DEFAULT.transforms()\n",
    "\n",
    "categories = models.ResNet101_Weights.DEFAULT.meta[\"categories\"]"
   ]
  },
  {
   "cell_type": "code",
   "execution_count": 3,
   "id": "99cf8f1c",
   "metadata": {},
   "outputs": [
    {
     "name": "stdout",
     "output_type": "stream",
     "text": [
      "before unsqueeze torch.Size([3, 224, 224])\n",
      "after unsqueeze: torch.Size([1, 3, 224, 224])\n"
     ]
    }
   ],
   "source": [
    "from PIL import Image\n",
    "owl = Image.open(\"../../data/owl.JPG\")\n",
    "owl_t = preprocess(owl)\n",
    "print(\"before unsqueeze\", owl_t.shape)\n",
    "batch_t = torch.unsqueeze(owl_t, dim=0)\n",
    "print(\"after unsqueeze:\", batch_t.shape)"
   ]
  },
  {
   "cell_type": "code",
   "execution_count": 4,
   "id": "b080319e",
   "metadata": {},
   "outputs": [
    {
     "data": {
      "text/plain": [
       "torch.Size([1, 1000])"
      ]
     },
     "execution_count": 4,
     "metadata": {},
     "output_type": "execute_result"
    }
   ],
   "source": [
    "resnet.eval()\n",
    "with torch.no_grad():\n",
    "    output = resnet(batch_t)\n",
    "\n",
    "output.shape"
   ]
  },
  {
   "cell_type": "code",
   "execution_count": 5,
   "id": "10387ab6",
   "metadata": {},
   "outputs": [
    {
     "name": "stdout",
     "output_type": "stream",
     "text": [
      "great grey owl\n",
      "accuracy:  7.81650972366333\n"
     ]
    }
   ],
   "source": [
    "proba = output[0]\n",
    "pred = torch.argmax(output[0]).item()\n",
    "print(categories[pred])\n",
    "print(\"accuracy: \", proba[pred].item())"
   ]
  }
 ],
 "metadata": {
  "kernelspec": {
   "display_name": "Python 3",
   "language": "python",
   "name": "python3"
  },
  "language_info": {
   "codemirror_mode": {
    "name": "ipython",
    "version": 3
   },
   "file_extension": ".py",
   "mimetype": "text/x-python",
   "name": "python",
   "nbconvert_exporter": "python",
   "pygments_lexer": "ipython3",
   "version": "3.12.9"
  }
 },
 "nbformat": 4,
 "nbformat_minor": 5
}
