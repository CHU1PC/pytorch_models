{
 "cells": [
  {
   "cell_type": "code",
   "execution_count": 1,
   "id": "6e068cf7",
   "metadata": {},
   "outputs": [],
   "source": [
    "import torch\n",
    "from torchvision import models"
   ]
  },
  {
   "cell_type": "code",
   "execution_count": 2,
   "id": "e720319c",
   "metadata": {},
   "outputs": [],
   "source": [
    "alexnet = models.alexnet(weights=models.AlexNet_Weights.DEFAULT)\n",
    "preprocess = models.AlexNet_Weights.DEFAULT.transforms()\n",
    "category = models.AlexNet_Weights.DEFAULT.meta[\"categories\"]"
   ]
  },
  {
   "cell_type": "code",
   "execution_count": 3,
   "id": "bfd5693a",
   "metadata": {},
   "outputs": [],
   "source": [
    "from PIL import Image\n",
    "owl = Image.open(\"../../data/owl.JPG\")"
   ]
  },
  {
   "cell_type": "code",
   "execution_count": 4,
   "id": "2996c015",
   "metadata": {},
   "outputs": [
    {
     "data": {
      "text/plain": [
       "torch.Size([3, 224, 224])"
      ]
     },
     "execution_count": 4,
     "metadata": {},
     "output_type": "execute_result"
    }
   ],
   "source": [
    "owl_t = preprocess(owl)\n",
    "owl_t.shape"
   ]
  },
  {
   "cell_type": "code",
   "execution_count": 5,
   "id": "9d9912a5",
   "metadata": {},
   "outputs": [],
   "source": [
    "# モデルは(batch size, channel, H, W)の4次元を求めるため、unsqueeze()で拡張\n",
    "batch_t = torch.unsqueeze(owl_t, dim=0)"
   ]
  },
  {
   "cell_type": "code",
   "execution_count": 6,
   "id": "3bbaa0af",
   "metadata": {},
   "outputs": [],
   "source": [
    "alexnet.eval()\n",
    "with torch.no_grad():\n",
    "    output = alexnet(batch_t)"
   ]
  },
  {
   "cell_type": "code",
   "execution_count": 7,
   "id": "abb6a4f6",
   "metadata": {},
   "outputs": [
    {
     "name": "stdout",
     "output_type": "stream",
     "text": [
      "diamondback\n",
      "accuracy:  8.328636169433594\n"
     ]
    }
   ],
   "source": [
    "proba = output[0]\n",
    "pred = torch.argmax(output[0]).item()\n",
    "print(category[pred])\n",
    "print(\"accuracy: \", proba[pred].item())\n"
   ]
  },
  {
   "cell_type": "code",
   "execution_count": null,
   "id": "1cb526b2",
   "metadata": {},
   "outputs": [],
   "source": []
  }
 ],
 "metadata": {
  "kernelspec": {
   "display_name": "Python 3",
   "language": "python",
   "name": "python3"
  },
  "language_info": {
   "codemirror_mode": {
    "name": "ipython",
    "version": 3
   },
   "file_extension": ".py",
   "mimetype": "text/x-python",
   "name": "python",
   "nbconvert_exporter": "python",
   "pygments_lexer": "ipython3",
   "version": "3.12.9"
  }
 },
 "nbformat": 4,
 "nbformat_minor": 5
}
