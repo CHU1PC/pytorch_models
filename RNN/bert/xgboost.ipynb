{
 "cells": [
  {
   "cell_type": "code",
   "execution_count": 1,
   "id": "c43119eb",
   "metadata": {},
   "outputs": [],
   "source": [
    "import os\n",
    "import sys\n",
    "import pandas as pd\n",
    "import numpy as np\n",
    "import time\n",
    "\n",
    "from tqdm import tqdm"
   ]
  },
  {
   "cell_type": "code",
   "execution_count": 2,
   "id": "6ef156f0",
   "metadata": {},
   "outputs": [],
   "source": [
    "import torch\n",
    "from torch.utils.data import DataLoader\n",
    "\n",
    "from sklearn.model_selection import GridSearchCV, train_test_split\n",
    "from sklearn.metrics import classification_report\n",
    "from sklearn.pipeline import Pipeline\n",
    "import xgboost as xgb\n",
    "\n",
    "sys.path.append(\"..\")\n",
    "\n",
    "from utils import DATA_DIR  # noqa"
   ]
  },
  {
   "cell_type": "code",
   "execution_count": 3,
   "id": "a102f9ee",
   "metadata": {},
   "outputs": [],
   "source": [
    "# BertのモデルとTokenizer(前処理用)をimport\n",
    "from transformers import BertTokenizer, BertModel"
   ]
  },
  {
   "cell_type": "code",
   "execution_count": 4,
   "id": "5a4acee7",
   "metadata": {},
   "outputs": [],
   "source": [
    "start = time.time()"
   ]
  },
  {
   "cell_type": "code",
   "execution_count": 5,
   "id": "a7daa5a9",
   "metadata": {},
   "outputs": [],
   "source": [
    "device = torch.device(\"mps\" if torch.backends.mps.is_available() else \"cpu\")"
   ]
  },
  {
   "cell_type": "code",
   "execution_count": 6,
   "id": "4ec3de76",
   "metadata": {},
   "outputs": [],
   "source": [
    "tweet_df = pd.read_csv(os.path.join(DATA_DIR, \"cleaned_airline_tweets.csv\"))\n",
    "\n",
    "\n",
    "train, test = train_test_split(tweet_df, test_size=0.2,\n",
    "                               random_state=0, stratify=tweet_df[\"sentiment\"])\n",
    "train, test = train.reset_index(drop=True), test.reset_index(drop=True)"
   ]
  },
  {
   "cell_type": "code",
   "execution_count": 7,
   "id": "0c713427",
   "metadata": {},
   "outputs": [],
   "source": [
    "bert_model = BertModel.from_pretrained(\"bert-base-uncased\").to(device)\n",
    "bert_tokenizer = BertTokenizer.from_pretrained(\"bert-base-uncased\")"
   ]
  },
  {
   "cell_type": "code",
   "execution_count": 8,
   "id": "61c3b7a9",
   "metadata": {},
   "outputs": [],
   "source": [
    "train_dataloader = DataLoader(\n",
    "    train[\"text\"],\n",
    "    batch_size=512,\n",
    "    shuffle=False,\n",
    "    collate_fn=lambda batch: bert_tokenizer(\n",
    "        text=batch, padding=\"longest\", truncation=True,\n",
    "        return_tensors=\"pt\"\n",
    "    )\n",
    ")\n",
    "\n",
    "test_dataloader = DataLoader(\n",
    "    test[\"text\"],\n",
    "    batch_size=512,\n",
    "    shuffle=False,\n",
    "    collate_fn=lambda batch: bert_tokenizer(\n",
    "        text=batch, padding=\"longest\", truncation=True,\n",
    "        return_tensors=\"pt\"\n",
    "    )\n",
    ")"
   ]
  },
  {
   "cell_type": "code",
   "execution_count": 9,
   "id": "820251a0",
   "metadata": {},
   "outputs": [
    {
     "name": "stderr",
     "output_type": "stream",
     "text": [
      "  0%|          | 0/7 [00:00<?, ?it/s]/Library/Frameworks/Python.framework/Versions/3.12/lib/python3.12/site-packages/torch/nn/modules/module.py:1762: FutureWarning: `encoder_attention_mask` is deprecated and will be removed in version 4.55.0 for `BertSdpaSelfAttention.forward`.\n",
      "  return forward_call(*args, **kwargs)\n",
      "100%|██████████| 7/7 [00:13<00:00,  1.91s/it]\n",
      "100%|██████████| 2/2 [00:03<00:00,  1.54s/it]\n"
     ]
    }
   ],
   "source": [
    "train_emb_list = []\n",
    "\n",
    "with torch.no_grad():\n",
    "    for batch in tqdm(train_dataloader):\n",
    "        outputs = bert_model(input_ids=batch[\"input_ids\"].to(device),\n",
    "                             attention_mask=batch[\"attention_mask\"].to(device),\n",
    "                             token_type_ids=batch[\"token_type_ids\"].to(device))\n",
    "        embeddings = outputs.pooler_output\n",
    "        train_emb_list.append(embeddings.cpu().numpy())\n",
    "\n",
    "train_emb = np.vstack(train_emb_list)\n",
    "\n",
    "\n",
    "test_emb_list = []\n",
    "with torch.no_grad():\n",
    "    for batch in tqdm(test_dataloader):\n",
    "        outputs = bert_model(input_ids=batch[\"input_ids\"].to(device),\n",
    "                             attention_mask=batch[\"attention_mask\"].to(device),\n",
    "                             token_type_ids=batch[\"token_type_ids\"].to(device))\n",
    "        embeddings = outputs.pooler_output\n",
    "        test_emb_list.append(embeddings.cpu().numpy())\n",
    "\n",
    "test_emb = np.vstack(test_emb_list)"
   ]
  },
  {
   "cell_type": "code",
   "execution_count": 11,
   "id": "1a31ad2e",
   "metadata": {},
   "outputs": [
    {
     "name": "stdout",
     "output_type": "stream",
     "text": [
      "Fitting 3 folds for each of 12 candidates, totalling 36 fits\n",
      "              precision    recall  f1-score   support\n",
      "\n",
      "           0       0.80      0.81      0.81       243\n",
      "           1       0.78      0.76      0.77       260\n",
      "           2       0.83      0.84      0.83       269\n",
      "\n",
      "    accuracy                           0.80       772\n",
      "   macro avg       0.80      0.80      0.80       772\n",
      "weighted avg       0.80      0.80      0.80       772\n",
      "\n"
     ]
    }
   ],
   "source": [
    "xgb_params = {\n",
    "    'n_estimators': [500, 1000],\n",
    "    'max_depth': [3, 6],\n",
    "    'learning_rate': [0.01, 0.1, 0.2],\n",
    "}\n",
    "xgb_grid = GridSearchCV(\n",
    "    xgb.XGBClassifier(random_state=42, verbosity=0), xgb_params, cv=3, scoring=\"f1_macro\", n_jobs=-1, verbose=1\n",
    ")\n",
    "train[\"sentiment\"] = train[\"sentiment\"].replace({\"negative\": 0, \"neutral\": 1, \"positive\": 2})\n",
    "test[\"sentiment\"] = test[\"sentiment\"].replace({\"negative\": 0, \"neutral\": 1, \"positive\": 2})\n",
    "\n",
    "xgb_grid.fit(train_emb, train[\"sentiment\"])\n",
    "print(classification_report(test[\"sentiment\"], xgb_grid.predict(test_emb)))"
   ]
  },
  {
   "cell_type": "code",
   "execution_count": 12,
   "id": "129f3b9d",
   "metadata": {},
   "outputs": [
    {
     "data": {
      "text/plain": [
       "{'learning_rate': 0.1, 'max_depth': 3, 'n_estimators': 500}"
      ]
     },
     "execution_count": 12,
     "metadata": {},
     "output_type": "execute_result"
    }
   ],
   "source": [
    "xgb_grid.best_params_"
   ]
  },
  {
   "cell_type": "code",
   "execution_count": 13,
   "id": "a67f82d2",
   "metadata": {},
   "outputs": [
    {
     "name": "stdout",
     "output_type": "stream",
     "text": [
      "              precision    recall  f1-score   support\n",
      "\n",
      "           0       0.80      0.81      0.81       243\n",
      "           1       0.78      0.76      0.77       260\n",
      "           2       0.83      0.84      0.83       269\n",
      "\n",
      "    accuracy                           0.80       772\n",
      "   macro avg       0.80      0.80      0.80       772\n",
      "weighted avg       0.80      0.80      0.80       772\n",
      "\n"
     ]
    }
   ],
   "source": [
    "xgb_model = xgb.XGBClassifier(learning_rate=0.1, max_depth=3, n_estimators=500, random_state=42)\n",
    "xgb_model.fit(train_emb, train[\"sentiment\"])\n",
    "print(classification_report(test[\"sentiment\"], xgb_model.predict(test_emb)))"
   ]
  },
  {
   "cell_type": "code",
   "execution_count": null,
   "id": "04f8e130",
   "metadata": {},
   "outputs": [
    {
     "name": "stdout",
     "output_type": "stream",
     "text": [
      "23.644593000411987\n"
     ]
    }
   ],
   "source": [
    "print(time.time() - start)"
   ]
  }
 ],
 "metadata": {
  "kernelspec": {
   "display_name": "Python 3",
   "language": "python",
   "name": "python3"
  },
  "language_info": {
   "codemirror_mode": {
    "name": "ipython",
    "version": 3
   },
   "file_extension": ".py",
   "mimetype": "text/x-python",
   "name": "python",
   "nbconvert_exporter": "python",
   "pygments_lexer": "ipython3",
   "version": "3.12.9"
  }
 },
 "nbformat": 4,
 "nbformat_minor": 5
}
