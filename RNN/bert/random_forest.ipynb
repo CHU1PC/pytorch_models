{
 "cells": [
  {
   "cell_type": "code",
   "execution_count": 1,
   "id": "be742f06",
   "metadata": {},
   "outputs": [],
   "source": [
    "import os\n",
    "import sys\n",
    "import pandas as pd\n",
    "import numpy as np\n",
    "import time\n",
    "\n",
    "from tqdm import tqdm"
   ]
  },
  {
   "cell_type": "code",
   "execution_count": 2,
   "id": "08eb46bf",
   "metadata": {},
   "outputs": [],
   "source": [
    "import torch\n",
    "from torch.utils.data import DataLoader\n",
    "\n",
    "from sklearn.model_selection import GridSearchCV, train_test_split\n",
    "from sklearn.ensemble import RandomForestClassifier\n",
    "from sklearn.metrics import classification_report\n",
    "from sklearn.pipeline import Pipeline\n",
    "\n",
    "sys.path.append(\"..\")\n",
    "\n",
    "from utils import DATA_DIR  # noqa"
   ]
  },
  {
   "cell_type": "code",
   "execution_count": 3,
   "id": "c8640f10",
   "metadata": {},
   "outputs": [],
   "source": [
    "# BertのモデルとTokenizer(前処理用)をimport\n",
    "from transformers import BertTokenizer, BertModel"
   ]
  },
  {
   "cell_type": "code",
   "execution_count": 5,
   "id": "d56bc1b6",
   "metadata": {},
   "outputs": [],
   "source": [
    "start = time.time()"
   ]
  },
  {
   "cell_type": "code",
   "execution_count": 6,
   "id": "f83e0a57",
   "metadata": {},
   "outputs": [],
   "source": [
    "device = torch.device(\"mps\" if torch.backends.mps.is_available() else \"cpu\")"
   ]
  },
  {
   "cell_type": "code",
   "execution_count": 7,
   "id": "c210a0b9",
   "metadata": {},
   "outputs": [],
   "source": [
    "tweet_df = pd.read_csv(os.path.join(DATA_DIR, \"cleaned_airline_tweets.csv\"))\n",
    "\n",
    "\n",
    "train, test = train_test_split(tweet_df, test_size=0.2,\n",
    "                               random_state=0, stratify=tweet_df[\"sentiment\"])\n",
    "train, test = train.reset_index(drop=True), test.reset_index(drop=True)"
   ]
  },
  {
   "cell_type": "code",
   "execution_count": 8,
   "id": "5ced845a",
   "metadata": {},
   "outputs": [],
   "source": [
    "bert_model = BertModel.from_pretrained(\"bert-base-uncased\").to(device)\n",
    "bert_tokenizer = BertTokenizer.from_pretrained(\"bert-base-uncased\")"
   ]
  },
  {
   "cell_type": "code",
   "execution_count": 9,
   "id": "8bc31eb2",
   "metadata": {},
   "outputs": [],
   "source": [
    "train_dataloader = DataLoader(\n",
    "    train[\"text\"],\n",
    "    batch_size=512,\n",
    "    shuffle=False,\n",
    "    collate_fn=lambda batch: bert_tokenizer(\n",
    "        text=batch, padding=\"longest\", truncation=True,\n",
    "        return_tensors=\"pt\"\n",
    "    )\n",
    ")\n",
    "\n",
    "test_dataloader = DataLoader(\n",
    "    test[\"text\"],\n",
    "    batch_size=512,\n",
    "    shuffle=False,\n",
    "    collate_fn=lambda batch: bert_tokenizer(\n",
    "        text=batch, padding=\"longest\", truncation=True,\n",
    "        return_tensors=\"pt\"\n",
    "    )\n",
    ")"
   ]
  },
  {
   "cell_type": "code",
   "execution_count": 10,
   "id": "2c3d81e7",
   "metadata": {},
   "outputs": [
    {
     "name": "stderr",
     "output_type": "stream",
     "text": [
      "  0%|          | 0/7 [00:00<?, ?it/s]/Library/Frameworks/Python.framework/Versions/3.12/lib/python3.12/site-packages/torch/nn/modules/module.py:1762: FutureWarning: `encoder_attention_mask` is deprecated and will be removed in version 4.55.0 for `BertSdpaSelfAttention.forward`.\n",
      "  return forward_call(*args, **kwargs)\n",
      "100%|██████████| 7/7 [00:14<00:00,  2.01s/it]\n",
      "100%|██████████| 2/2 [00:03<00:00,  1.53s/it]\n"
     ]
    }
   ],
   "source": [
    "train_emb_list = []\n",
    "\n",
    "with torch.no_grad():\n",
    "    for batch in tqdm(train_dataloader):\n",
    "        outputs = bert_model(input_ids=batch[\"input_ids\"].to(device),\n",
    "                             attention_mask=batch[\"attention_mask\"].to(device),\n",
    "                             token_type_ids=batch[\"token_type_ids\"].to(device))\n",
    "        embeddings = outputs.pooler_output\n",
    "        train_emb_list.append(embeddings.cpu().numpy())\n",
    "\n",
    "train_emb = np.vstack(train_emb_list)\n",
    "\n",
    "\n",
    "test_emb_list = []\n",
    "with torch.no_grad():\n",
    "    for batch in tqdm(test_dataloader):\n",
    "        outputs = bert_model(input_ids=batch[\"input_ids\"].to(device),\n",
    "                             attention_mask=batch[\"attention_mask\"].to(device),\n",
    "                             token_type_ids=batch[\"token_type_ids\"].to(device))\n",
    "        embeddings = outputs.pooler_output\n",
    "        test_emb_list.append(embeddings.cpu().numpy())\n",
    "\n",
    "test_emb = np.vstack(test_emb_list)"
   ]
  },
  {
   "cell_type": "code",
   "execution_count": 11,
   "id": "254e3342",
   "metadata": {},
   "outputs": [
    {
     "name": "stdout",
     "output_type": "stream",
     "text": [
      "              precision    recall  f1-score   support\n",
      "\n",
      "    negative       0.63      0.57      0.60       243\n",
      "     neutral       0.60      0.53      0.57       260\n",
      "    positive       0.69      0.82      0.75       269\n",
      "\n",
      "    accuracy                           0.65       772\n",
      "   macro avg       0.64      0.64      0.64       772\n",
      "weighted avg       0.64      0.65      0.64       772\n",
      "\n"
     ]
    }
   ],
   "source": [
    "pipe = Pipeline([\n",
    "    (\"clf\", RandomForestClassifier(n_estimators=10000, max_depth=3, min_samples_split=3))\n",
    "])\n",
    "\n",
    "params = {\n",
    "    \"clf__n_estimators\": [10000],\n",
    "    \"clf__max_depth\": [5, 6],\n",
    "    \"clf__min_samples_split\": [3]\n",
    "}\n",
    "\n",
    "pipe.fit(train_emb, train[\"sentiment\"])\n",
    "print(classification_report(test[\"sentiment\"], pipe.predict(test_emb)))"
   ]
  },
  {
   "cell_type": "code",
   "execution_count": 13,
   "id": "168173a6",
   "metadata": {},
   "outputs": [
    {
     "name": "stdout",
     "output_type": "stream",
     "text": [
      "211.3505790233612\n"
     ]
    }
   ],
   "source": [
    "print(time.time() - start)"
   ]
  },
  {
   "cell_type": "code",
   "execution_count": null,
   "id": "cfed1dac",
   "metadata": {},
   "outputs": [],
   "source": []
  }
 ],
 "metadata": {
  "kernelspec": {
   "display_name": "Python 3",
   "language": "python",
   "name": "python3"
  },
  "language_info": {
   "codemirror_mode": {
    "name": "ipython",
    "version": 3
   },
   "file_extension": ".py",
   "mimetype": "text/x-python",
   "name": "python",
   "nbconvert_exporter": "python",
   "pygments_lexer": "ipython3",
   "version": "3.12.9"
  }
 },
 "nbformat": 4,
 "nbformat_minor": 5
}
