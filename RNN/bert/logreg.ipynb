{
 "cells": [
  {
   "cell_type": "code",
   "execution_count": 1,
   "id": "fe0c042c",
   "metadata": {},
   "outputs": [],
   "source": [
    "import os\n",
    "import sys\n",
    "import pandas as pd\n",
    "import numpy as np\n",
    "import time\n",
    "import warnings\n",
    "\n",
    "from tqdm import tqdm\n",
    "\n",
    "warnings.filterwarnings(\"ignore\")"
   ]
  },
  {
   "cell_type": "code",
   "execution_count": null,
   "id": "843a4728",
   "metadata": {},
   "outputs": [],
   "source": [
    "import torch\n",
    "from torch.utils.data import DataLoader\n",
    "\n",
    "from sklearn.model_selection import GridSearchCV, train_test_split\n",
    "from sklearn.linear_model import LogisticRegression\n",
    "from sklearn.metrics import classification_report\n",
    "from sklearn.pipeline import Pipeline\n",
    "\n",
    "sys.path.append(\"../../\")\n",
    "\n",
    "from utils import DATA_DIR  # noqa"
   ]
  },
  {
   "cell_type": "code",
   "execution_count": 3,
   "id": "0559bd80",
   "metadata": {},
   "outputs": [],
   "source": [
    "# BertのモデルとTokenizer(前処理用)をimport\n",
    "from transformers import BertTokenizer, BertModel"
   ]
  },
  {
   "cell_type": "code",
   "execution_count": 5,
   "id": "f44caf0d",
   "metadata": {},
   "outputs": [],
   "source": [
    "device = torch.device(\"mps\" if torch.backends.mps.is_available() else \"cpu\")"
   ]
  },
  {
   "cell_type": "code",
   "execution_count": 6,
   "id": "ba124592",
   "metadata": {},
   "outputs": [],
   "source": [
    "tweet_df = pd.read_csv(os.path.join(DATA_DIR, \"cleaned_airline_tweets.csv\"))\n",
    "\n",
    "\n",
    "train, test = train_test_split(tweet_df, test_size=0.2,\n",
    "                               random_state=0, stratify=tweet_df[\"sentiment\"])\n",
    "train, test = train.reset_index(drop=True), test.reset_index(drop=True)"
   ]
  },
  {
   "cell_type": "code",
   "execution_count": 7,
   "id": "a879c16e",
   "metadata": {},
   "outputs": [],
   "source": [
    "bert_model = BertModel.from_pretrained(\"bert-base-uncased\").to(device)\n",
    "bert_tokenizer = BertTokenizer.from_pretrained(\"bert-base-uncased\")"
   ]
  },
  {
   "cell_type": "code",
   "execution_count": null,
   "id": "ef5ce859",
   "metadata": {},
   "outputs": [],
   "source": [
    "train_dataloader = DataLoader(\n",
    "    train[\"text\"],\n",
    "    batch_size=512,\n",
    "    shuffle=False,\n",
    "    collate_fn=lambda batch: bert_tokenizer(\n",
    "        text=batch, padding=\"longest\", truncation=True,\n",
    "        return_tensors=\"pt\"\n",
    "    )\n",
    ")\n",
    "\n",
    "test_dataloader = DataLoader(\n",
    "    test[\"text\"],\n",
    "    batch_size=512,\n",
    "    shuffle=False,\n",
    "    collate_fn=lambda batch: bert_tokenizer(\n",
    "        text=batch, padding=\"longest\", truncation=True,\n",
    "        return_tensors=\"pt\"\n",
    "    )\n",
    ")"
   ]
  },
  {
   "cell_type": "code",
   "execution_count": 9,
   "id": "83afade5",
   "metadata": {},
   "outputs": [
    {
     "name": "stderr",
     "output_type": "stream",
     "text": [
      "  0%|          | 0/7 [00:00<?, ?it/s]"
     ]
    },
    {
     "name": "stderr",
     "output_type": "stream",
     "text": [
      "100%|██████████| 7/7 [00:08<00:00,  1.25s/it]\n",
      "100%|██████████| 2/2 [00:01<00:00,  1.11it/s]\n"
     ]
    }
   ],
   "source": [
    "train_emb_list = []\n",
    "\n",
    "with torch.no_grad():\n",
    "    for batch in tqdm(train_dataloader):\n",
    "        outputs = bert_model(input_ids=batch[\"input_ids\"].to(device),\n",
    "                             attention_mask=batch[\"attention_mask\"].to(device),\n",
    "                             token_type_ids=batch[\"token_type_ids\"].to(device))\n",
    "        embeddings = outputs.pooler_output\n",
    "        train_emb_list.append(embeddings.cpu().numpy())\n",
    "\n",
    "train_emb = np.vstack(train_emb_list)\n",
    "\n",
    "\n",
    "test_emb_list = []\n",
    "with torch.no_grad():\n",
    "    for batch in tqdm(test_dataloader):\n",
    "        outputs = bert_model(input_ids=batch[\"input_ids\"].to(device),\n",
    "                             attention_mask=batch[\"attention_mask\"].to(device),\n",
    "                             token_type_ids=batch[\"token_type_ids\"].to(device))\n",
    "        embeddings = outputs.pooler_output\n",
    "        test_emb_list.append(embeddings.cpu().numpy())\n",
    "\n",
    "test_emb = np.vstack(test_emb_list)"
   ]
  },
  {
   "cell_type": "code",
   "execution_count": 10,
   "id": "cbc70c99",
   "metadata": {},
   "outputs": [
    {
     "name": "stdout",
     "output_type": "stream",
     "text": [
      "              precision    recall  f1-score   support\n",
      "\n",
      "    negative       0.85      0.86      0.85       243\n",
      "     neutral       0.81      0.82      0.82       260\n",
      "    positive       0.88      0.86      0.87       269\n",
      "\n",
      "    accuracy                           0.85       772\n",
      "   macro avg       0.85      0.85      0.85       772\n",
      "weighted avg       0.85      0.85      0.85       772\n",
      "\n"
     ]
    }
   ],
   "source": [
    "pipe = Pipeline([\n",
    "    (\"clf\", LogisticRegression(max_iter=10000))\n",
    "])\n",
    "LogisticRegression()\n",
    "params = {\n",
    "    \"clf__C\": [.1, 1, 10],\n",
    "    \"clf__solver\": [\"lbfgs\", \"saga\"]\n",
    "}\n",
    "\n",
    "grid = GridSearchCV(pipe, params, cv=5, verbose=2)\n",
    "\n",
    "grid.fit(train_emb, train[\"sentiment\"])\n",
    "print(classification_report(test[\"sentiment\"], grid.predict(test_emb)))"
   ]
  },
  {
   "cell_type": "code",
   "execution_count": 13,
   "id": "2e91c480",
   "metadata": {},
   "outputs": [
    {
     "name": "stdout",
     "output_type": "stream",
     "text": [
      "              precision    recall  f1-score   support\n",
      "\n",
      "    negative       0.85      0.86      0.85       243\n",
      "     neutral       0.81      0.82      0.82       260\n",
      "    positive       0.88      0.86      0.87       269\n",
      "\n",
      "    accuracy                           0.85       772\n",
      "   macro avg       0.85      0.85      0.85       772\n",
      "weighted avg       0.85      0.85      0.85       772\n",
      "\n"
     ]
    }
   ],
   "source": [
    "logreg = LogisticRegression(max_iter=10000, C=1, solver=\"saga\")\n",
    "logreg.fit(train_emb, train[\"sentiment\"])\n",
    "print(classification_report(test[\"sentiment\"], logreg.predict(test_emb)))"
   ]
  },
  {
   "cell_type": "code",
   "execution_count": 11,
   "id": "7a5c45eb",
   "metadata": {},
   "outputs": [
    {
     "name": "stdout",
     "output_type": "stream",
     "text": [
      "269.13468408584595\n"
     ]
    }
   ],
   "source": [
    "print(time.time() - start)"
   ]
  },
  {
   "cell_type": "code",
   "execution_count": 12,
   "id": "4b812b28",
   "metadata": {},
   "outputs": [
    {
     "data": {
      "text/plain": [
       "{'clf__C': 1, 'clf__solver': 'saga'}"
      ]
     },
     "execution_count": 12,
     "metadata": {},
     "output_type": "execute_result"
    }
   ],
   "source": [
    "grid.best_params_"
   ]
  },
  {
   "cell_type": "code",
   "execution_count": null,
   "id": "17bca7e0",
   "metadata": {},
   "outputs": [],
   "source": []
  }
 ],
 "metadata": {
  "kernelspec": {
   "display_name": "Python 3",
   "language": "python",
   "name": "python3"
  },
  "language_info": {
   "codemirror_mode": {
    "name": "ipython",
    "version": 3
   },
   "file_extension": ".py",
   "mimetype": "text/x-python",
   "name": "python",
   "nbconvert_exporter": "python",
   "pygments_lexer": "ipython3",
   "version": "3.12.9"
  }
 },
 "nbformat": 4,
 "nbformat_minor": 5
}
