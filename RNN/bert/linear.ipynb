{
 "cells": [
  {
   "cell_type": "code",
   "execution_count": 1,
   "id": "69351c6d",
   "metadata": {},
   "outputs": [],
   "source": [
    "import os\n",
    "import sys\n",
    "import pandas as pd\n",
    "import numpy as np\n",
    "import time\n",
    "import warnings\n",
    "\n",
    "from tqdm import tqdm\n",
    "\n",
    "warnings.filterwarnings(\"ignore\")"
   ]
  },
  {
   "cell_type": "code",
   "execution_count": 3,
   "id": "c9b2fbcb",
   "metadata": {},
   "outputs": [],
   "source": [
    "import torch\n",
    "import torch.nn as nn\n",
    "import torch.nn.functional as F\n",
    "import torch.optim as optim\n",
    "from torch.utils.data import DataLoader, TensorDataset\n",
    "\n",
    "from sklearn.model_selection import train_test_split\n",
    "from sklearn.metrics import classification_report\n",
    "\n",
    "\n",
    "sys.path.append(\"../..\")\n",
    "\n",
    "from utils import DATA_DIR  # noqa"
   ]
  },
  {
   "cell_type": "code",
   "execution_count": 4,
   "id": "13b41ef3",
   "metadata": {},
   "outputs": [],
   "source": [
    "# BertのモデルとTokenizer(前処理用)をimport\n",
    "from transformers import BertTokenizer, BertModel"
   ]
  },
  {
   "cell_type": "code",
   "execution_count": 5,
   "id": "76823cac",
   "metadata": {},
   "outputs": [],
   "source": [
    "class BertClf(nn.Module):\n",
    "    def __init__(self, input_size=768, num_classes=3, dropout_rate=0.3):\n",
    "        super().__init__()\n",
    "        self.linear = nn.Linear(input_size, num_classes)\n",
    "\n",
    "        self.dropout = nn.Dropout(dropout_rate)\n",
    "\n",
    "    def forward(self, x):\n",
    "        output = self.dropout(x)\n",
    "        output = self.linear(output)\n",
    "        proba = F.softmax(output, dim=1)\n",
    "\n",
    "        return output, proba"
   ]
  },
  {
   "cell_type": "code",
   "execution_count": 7,
   "id": "cfdffffc",
   "metadata": {},
   "outputs": [],
   "source": [
    "tweet_df = pd.read_csv(os.path.join(DATA_DIR, \"cleaned_airline_tweets.csv\"))\n",
    "tweet_df[\"sentiment\"] = tweet_df[\"sentiment\"].replace({\"negative\": 0, \"neutral\": 1, \"positive\": 2})\n",
    "\n",
    "train, test = train_test_split(tweet_df, test_size=0.2, random_state=0, stratify=tweet_df[\"sentiment\"])\n",
    "train, test = train.reset_index(drop=True), test.reset_index(drop=True)"
   ]
  },
  {
   "cell_type": "code",
   "execution_count": 8,
   "id": "bee59f49",
   "metadata": {},
   "outputs": [
    {
     "data": {
      "text/plain": [
       "device(type='mps')"
      ]
     },
     "execution_count": 8,
     "metadata": {},
     "output_type": "execute_result"
    }
   ],
   "source": [
    "device = torch.device(\"cuda\" if torch.cuda.is_available() else \n",
    "                      \"mps\" if torch.backends.mps.is_available() else \"cpu\")\n",
    "device"
   ]
  },
  {
   "cell_type": "code",
   "execution_count": 9,
   "id": "4c13682b",
   "metadata": {},
   "outputs": [],
   "source": [
    "bert_model = BertModel.from_pretrained(\"bert-base-uncased\").to(device)\n",
    "tokenizer = BertTokenizer.from_pretrained(\"bert-base-uncased\")"
   ]
  },
  {
   "cell_type": "code",
   "execution_count": 10,
   "id": "7c864712",
   "metadata": {},
   "outputs": [
    {
     "name": "stdout",
     "output_type": "stream",
     "text": [
      "input_ids: [[101, 7592, 2026, 2171, 2003, 14684, 1012, 3835, 2000, 3113, 2017, 102]]\n",
      "token_type_ids: [[0, 0, 0, 0, 0, 0, 0, 0, 0, 0, 0, 0]]\n",
      "attention_mask: [[1, 1, 1, 1, 1, 1, 1, 1, 1, 1, 1, 1]]\n"
     ]
    }
   ],
   "source": [
    "A = [\"hello my name is chu. Nice to meet you\"]\n",
    "C = tokenizer(A)\n",
    "for c in C:\n",
    "    print(f\"{c}: {C[c]}\")"
   ]
  },
  {
   "cell_type": "code",
   "execution_count": 11,
   "id": "a5c1ea40",
   "metadata": {},
   "outputs": [],
   "source": [
    "train_dataloader = DataLoader(\n",
    "    train[\"text\"],\n",
    "    batch_size=256,\n",
    "    shuffle=False,\n",
    "    collate_fn=lambda batch: tokenizer(\n",
    "        text=batch,\n",
    "        padding=\"longest\",\n",
    "        truncation=True,\n",
    "        return_tensors=\"pt\",\n",
    "        max_length=128\n",
    "    )\n",
    ")\n",
    "\n",
    "test_dataloader = DataLoader(\n",
    "    test[\"text\"],\n",
    "    batch_size=256,\n",
    "    shuffle=False,\n",
    "    collate_fn=lambda batch: tokenizer(\n",
    "        text=batch,\n",
    "        padding=\"longest\",\n",
    "        truncation=True,\n",
    "        return_tensors=\"pt\",\n",
    "        max_length=128\n",
    "    )\n",
    ")"
   ]
  },
  {
   "cell_type": "code",
   "execution_count": null,
   "id": "5ecd4c25",
   "metadata": {},
   "outputs": [],
   "source": []
  },
  {
   "cell_type": "code",
   "execution_count": 12,
   "id": "817d986c",
   "metadata": {},
   "outputs": [
    {
     "name": "stderr",
     "output_type": "stream",
     "text": [
      "100%|██████████| 13/13 [00:08<00:00,  1.60it/s]\n",
      "100%|██████████| 4/4 [00:01<00:00,  2.11it/s]\n"
     ]
    }
   ],
   "source": [
    "train_emb_list = []\n",
    "test_emb_list = []\n",
    "bert_model.eval()\n",
    "with torch.no_grad():\n",
    "    for batch in tqdm(train_dataloader):\n",
    "        outputs = bert_model(\n",
    "            input_ids=batch[\"input_ids\"].to(device),\n",
    "            attention_mask=batch[\"attention_mask\"].to(device),\n",
    "            token_type_ids=batch[\"token_type_ids\"].to(device)\n",
    "        )\n",
    "        embedding = outputs.pooler_output\n",
    "        train_emb_list.append(embedding)\n",
    "        torch.mps.empty_cache()\n",
    "\n",
    "train_emb = torch.vstack(train_emb_list)\n",
    "train_emb_label = torch.tensor(train[\"sentiment\"]).to(device)\n",
    "train_dataset = TensorDataset(train_emb, train_emb_label)\n",
    "train_loader = DataLoader(train_dataset, batch_size=len(train_dataset) // 10, shuffle=True)\n",
    "\n",
    "\n",
    "test_emb_list = []\n",
    "with torch.no_grad():\n",
    "    for batch in tqdm(test_dataloader):\n",
    "        outputs = bert_model(\n",
    "            input_ids=batch[\"input_ids\"].to(device),\n",
    "            attention_mask=batch[\"attention_mask\"].to(device),\n",
    "            token_type_ids=batch[\"token_type_ids\"].to(device)\n",
    "        )\n",
    "        embedding = outputs.pooler_output\n",
    "        test_emb_list.append(embedding)\n",
    "        torch.mps.empty_cache()\n",
    "\n",
    "test_emb = torch.vstack(test_emb_list)\n",
    "test_emb_label = torch.tensor(test[\"sentiment\"])"
   ]
  },
  {
   "cell_type": "code",
   "execution_count": 15,
   "id": "07d924e1",
   "metadata": {},
   "outputs": [
    {
     "name": "stdout",
     "output_type": "stream",
     "text": [
      "False\n",
      "False\n",
      "False\n",
      "False\n",
      "False\n",
      "False\n",
      "False\n",
      "False\n",
      "False\n",
      "False\n",
      "False\n"
     ]
    }
   ],
   "source": [
    "for batch_emb, batch_labels in train_loader:\n",
    "    print(batch_emb.requires_grad)"
   ]
  },
  {
   "cell_type": "code",
   "execution_count": 27,
   "id": "9a877b18",
   "metadata": {},
   "outputs": [
    {
     "name": "stderr",
     "output_type": "stream",
     "text": [
      "Traning Progress:  10%|█         | 102/1001 [00:05<00:45, 19.59it/s]"
     ]
    },
    {
     "name": "stdout",
     "output_type": "stream",
     "text": [
      "0.9239274155009877\n"
     ]
    },
    {
     "name": "stderr",
     "output_type": "stream",
     "text": [
      "Traning Progress:  20%|██        | 202/1001 [00:10<00:40, 19.58it/s]"
     ]
    },
    {
     "name": "stdout",
     "output_type": "stream",
     "text": [
      "0.847103785384785\n"
     ]
    },
    {
     "name": "stderr",
     "output_type": "stream",
     "text": [
      "Traning Progress:  30%|███       | 302/1001 [00:15<00:34, 20.28it/s]"
     ]
    },
    {
     "name": "stdout",
     "output_type": "stream",
     "text": [
      "0.8041879317977212\n"
     ]
    },
    {
     "name": "stderr",
     "output_type": "stream",
     "text": [
      "Traning Progress:  40%|████      | 403/1001 [00:20<00:29, 20.20it/s]"
     ]
    },
    {
     "name": "stdout",
     "output_type": "stream",
     "text": [
      "0.7668921405618842\n"
     ]
    },
    {
     "name": "stderr",
     "output_type": "stream",
     "text": [
      "Traning Progress:  50%|█████     | 503/1001 [00:26<00:27, 17.94it/s]"
     ]
    },
    {
     "name": "stdout",
     "output_type": "stream",
     "text": [
      "0.742383295839483\n"
     ]
    },
    {
     "name": "stderr",
     "output_type": "stream",
     "text": [
      "Traning Progress:  60%|██████    | 603/1001 [00:32<00:22, 17.87it/s]"
     ]
    },
    {
     "name": "stdout",
     "output_type": "stream",
     "text": [
      "0.7469585808840665\n"
     ]
    },
    {
     "name": "stderr",
     "output_type": "stream",
     "text": [
      "Traning Progress:  70%|███████   | 703/1001 [00:37<00:16, 18.21it/s]"
     ]
    },
    {
     "name": "stdout",
     "output_type": "stream",
     "text": [
      "0.6985193436796014\n"
     ]
    },
    {
     "name": "stderr",
     "output_type": "stream",
     "text": [
      "Traning Progress:  80%|████████  | 803/1001 [00:43<00:10, 19.58it/s]"
     ]
    },
    {
     "name": "stdout",
     "output_type": "stream",
     "text": [
      "0.7074138630520214\n"
     ]
    },
    {
     "name": "stderr",
     "output_type": "stream",
     "text": [
      "Traning Progress:  90%|█████████ | 904/1001 [00:48<00:04, 20.00it/s]"
     ]
    },
    {
     "name": "stdout",
     "output_type": "stream",
     "text": [
      "0.705519134348089\n"
     ]
    },
    {
     "name": "stderr",
     "output_type": "stream",
     "text": [
      "Traning Progress: 100%|██████████| 1001/1001 [00:53<00:00, 18.83it/s]"
     ]
    },
    {
     "name": "stdout",
     "output_type": "stream",
     "text": [
      "0.6799466962164099\n"
     ]
    },
    {
     "name": "stderr",
     "output_type": "stream",
     "text": [
      "\n"
     ]
    }
   ],
   "source": [
    "bert_clf = BertClf().to(device)\n",
    "optimizer = optim.AdamW(bert_clf.parameters(), lr=0.0001)\n",
    "criterion = nn.CrossEntropyLoss()\n",
    "\n",
    "num_epochs = 1001\n",
    "bert_clf.train()\n",
    "for epoch in tqdm(range(num_epochs), \"Traning Progress\"):\n",
    "    total_loss = 0\n",
    "    num_batches = 0\n",
    "\n",
    "    for batch_emb, batch_labels in train_loader:\n",
    "        batch_emb = batch_emb.to(device)\n",
    "        batch_labels = batch_labels.to(device)\n",
    "\n",
    "        optimizer.zero_grad()\n",
    "\n",
    "        output, proba = bert_clf(batch_emb)\n",
    "        loss = criterion(output, batch_labels)\n",
    "\n",
    "        loss.backward()\n",
    "        optimizer.step()\n",
    "\n",
    "        total_loss += loss.item()\n",
    "        num_batches += 1\n",
    "\n",
    "    if (epoch + 1) % 100 == 0:\n",
    "        avg_loss = total_loss / num_batches\n",
    "        \n",
    "        print(avg_loss)\n",
    "        \n",
    "        "
   ]
  },
  {
   "cell_type": "code",
   "execution_count": 28,
   "id": "e98190db",
   "metadata": {},
   "outputs": [
    {
     "name": "stdout",
     "output_type": "stream",
     "text": [
      "\n",
      "=== Training Set Results ===\n",
      "              precision    recall  f1-score   support\n",
      "\n",
      "    negative       0.76      0.74      0.75       972\n",
      "     neutral       0.73      0.70      0.71      1039\n",
      "    positive       0.81      0.85      0.83      1077\n",
      "\n",
      "    accuracy                           0.77      3088\n",
      "   macro avg       0.77      0.77      0.76      3088\n",
      "weighted avg       0.77      0.77      0.77      3088\n",
      "\n",
      "\n",
      "=== Test Set Results ===\n",
      "              precision    recall  f1-score   support\n",
      "\n",
      "    negative       0.76      0.75      0.76       243\n",
      "     neutral       0.76      0.71      0.73       260\n",
      "    positive       0.81      0.86      0.83       269\n",
      "\n",
      "    accuracy                           0.78       772\n",
      "   macro avg       0.78      0.78      0.77       772\n",
      "weighted avg       0.78      0.78      0.78       772\n",
      "\n"
     ]
    }
   ],
   "source": [
    "bert_clf.eval()\n",
    "with torch.no_grad():\n",
    "    train_output, train_proba = bert_clf(train_emb)\n",
    "    train_pred = torch.argmax(train_proba, dim=1).cpu().numpy()\n",
    "\n",
    "    test_output, test_proba = bert_clf(test_emb)\n",
    "    test_pred = torch.argmax(test_proba, dim=1).cpu().numpy()\n",
    "\n",
    "print(\"\\n=== Training Set Results ===\")\n",
    "print(classification_report(train[\"sentiment\"].values, train_pred, \n",
    "                           target_names=[\"negative\", \"neutral\", \"positive\"]))\n",
    "\n",
    "print(\"\\n=== Test Set Results ===\")\n",
    "print(classification_report(test[\"sentiment\"].values, test_pred, \n",
    "                           target_names=[\"negative\", \"neutral\", \"positive\"]))"
   ]
  },
  {
   "cell_type": "code",
   "execution_count": 18,
   "id": "179b0561",
   "metadata": {},
   "outputs": [
    {
     "name": "stdout",
     "output_type": "stream",
     "text": [
      "\n",
      "=== Comparison: Scikit-learn LogisticRegression ===\n",
      "              precision    recall  f1-score   support\n",
      "\n",
      "    negative       0.85      0.86      0.85       243\n",
      "     neutral       0.81      0.82      0.82       260\n",
      "    positive       0.88      0.86      0.87       269\n",
      "\n",
      "    accuracy                           0.85       772\n",
      "   macro avg       0.85      0.85      0.85       772\n",
      "weighted avg       0.85      0.85      0.85       772\n",
      "\n"
     ]
    }
   ],
   "source": [
    "from sklearn.linear_model import LogisticRegression\n",
    "\n",
    "train_emb_cpu = train_emb.cpu().numpy()\n",
    "test_emb_cpu = test_emb.cpu().numpy()\n",
    "# 比較用：scikit-learnのLogisticRegression\n",
    "logreg = LogisticRegression(random_state=42, max_iter=1000)\n",
    "logreg.fit(train_emb_cpu, train[\"sentiment\"])\n",
    "print(\"\\n=== Comparison: Scikit-learn LogisticRegression ===\")\n",
    "print(classification_report(test[\"sentiment\"].values, logreg.predict(test_emb_cpu), target_names=[\"negative\", \"neutral\", \"positive\"]))"
   ]
  },
  {
   "cell_type": "code",
   "execution_count": null,
   "id": "24085117",
   "metadata": {},
   "outputs": [],
   "source": []
  },
  {
   "cell_type": "code",
   "execution_count": null,
   "id": "d93f9c87",
   "metadata": {},
   "outputs": [],
   "source": []
  }
 ],
 "metadata": {
  "kernelspec": {
   "display_name": "Python 3",
   "language": "python",
   "name": "python3"
  },
  "language_info": {
   "codemirror_mode": {
    "name": "ipython",
    "version": 3
   },
   "file_extension": ".py",
   "mimetype": "text/x-python",
   "name": "python",
   "nbconvert_exporter": "python",
   "pygments_lexer": "ipython3",
   "version": "3.12.9"
  }
 },
 "nbformat": 4,
 "nbformat_minor": 5
}
