{
 "cells": [
  {
   "cell_type": "code",
   "execution_count": 7,
   "id": "868ecb01",
   "metadata": {},
   "outputs": [],
   "source": [
    "import os\n",
    "import sys\n",
    "import pandas as pd\n",
    "import tqdm\n",
    "import numpy as np\n",
    "\n",
    "import torch\n",
    "from torch.utils.data import DataLoader, random_split\n",
    "\n",
    "# BertのモデルとTokenizer(前処理用)をimport\n",
    "from transformers import BertTokenizer, BertModel\n",
    "\n",
    "from sklearn.model_selection import GridSearchCV, train_test_split\n",
    "from sklearn.linear_model import LinearRegression\n",
    "from sklearn.metrics import classification_report\n",
    "\n",
    "sys.path.append(\"../\")\n",
    "from utils import DATA_DIR  # noqa"
   ]
  },
  {
   "cell_type": "code",
   "execution_count": 8,
   "id": "94c3988a",
   "metadata": {},
   "outputs": [],
   "source": [
    "tweet_df = pd.read_csv(os.path.join(DATA_DIR, \"cleaned_airline_tweets.csv\"))"
   ]
  },
  {
   "cell_type": "code",
   "execution_count": 9,
   "id": "2c96ecac",
   "metadata": {},
   "outputs": [
    {
     "data": {
      "application/vnd.microsoft.datawrangler.viewer.v0+json": {
       "columns": [
        {
         "name": "index",
         "rawType": "int64",
         "type": "integer"
        },
        {
         "name": "text",
         "rawType": "object",
         "type": "string"
        },
        {
         "name": "sentiment",
         "rawType": "object",
         "type": "string"
        }
       ],
       "ref": "9090cd56-bc0c-40c1-b956-5ee4cec8b351",
       "rows": [
        [
         "0",
         "@VirginAmerica What @dhepburn said.",
         "neutral"
        ],
        [
         "1",
         "@VirginAmerica it was amazing, and arrived an hour early. You're too good to me.",
         "positive"
        ],
        [
         "2",
         "@VirginAmerica I &lt;3 pretty graphics. so much better than minimal iconography. :D",
         "positive"
        ],
        [
         "3",
         "@VirginAmerica So excited for my first cross country flight LAX to MCO I've heard nothing but great things about Virgin America. #29DaysToGo",
         "positive"
        ],
        [
         "4",
         "I ❤️ flying @VirginAmerica. ☺️👍",
         "positive"
        ],
        [
         "5",
         "@VirginAmerica you know what would be amazingly awesome? BOS-FLL PLEASE!!!!!!! I want to fly with only you.",
         "positive"
        ],
        [
         "6",
         "@VirginAmerica I love this graphic. http://t.co/UT5GrRwAaA",
         "positive"
        ],
        [
         "7",
         "@VirginAmerica I love the hipster innovation. You are a feel good brand.",
         "positive"
        ],
        [
         "8",
         "@VirginAmerica will you be making BOS&gt;LAS non stop permanently anytime soon?",
         "neutral"
        ],
        [
         "9",
         "@VirginAmerica this is great news!  America could start flights to Hawaii by end of year http://t.co/r8p2Zy3fe4 via @Pacificbiznews",
         "positive"
        ],
        [
         "10",
         "@VirginAmerica Moodlighting is the only way to fly! Best experience EVER! Cool and calming. 💜✈ #MoodlitMonday",
         "positive"
        ],
        [
         "11",
         "@VirginAmerica plz help me win my bid upgrade for my flight 2/27 LAX---&gt;SEA!!!  🍷👍💺✈️",
         "neutral"
        ],
        [
         "12",
         "@VirginAmerica are flights leaving Dallas for Seattle on time Feb 24?",
         "neutral"
        ],
        [
         "13",
         "@VirginAmerica I'm #elevategold for a good reason: you rock!!",
         "positive"
        ],
        [
         "14",
         "@VirginAmerica wow this just blew my mind",
         "positive"
        ],
        [
         "15",
         "@VirginAmerica @ladygaga @carrieunderwood After last night #tribute #SoundOfMusic #Oscars2015 @ladygaga! I think @carrieunderwood agree",
         "neutral"
        ],
        [
         "16",
         "@VirginAmerica wish you flew out of Atlanta... Soon?",
         "neutral"
        ],
        [
         "17",
         "@VirginAmerica Will flights be leaving Dallas for LA on February 24th?",
         "neutral"
        ],
        [
         "18",
         "@VirginAmerica you know it. Need it on my spotify stat #guiltypleasures",
         "positive"
        ],
        [
         "19",
         "@VirginAmerica New marketing song? https://t.co/F2LFULCbQ7 let us know what you think?",
         "neutral"
        ],
        [
         "20",
         "@VirginAmerica @ladygaga @carrieunderwood Julie Andrews first but Lady Gaga wow'd me last night. Carrie? Meh.",
         "neutral"
        ],
        [
         "21",
         "@VirginAmerica @LadyGaga @CarrieUnderwood Sorry, Mary Martin had it first!",
         "neutral"
        ],
        [
         "22",
         "@VirginAmerica @ladygaga @carrieunderwood  love all three but you really can't beat the classics!",
         "positive"
        ],
        [
         "23",
         "@virginamerica Need to change reservation. Have Virgin credit card. Do I need to modify on phone to waive change fee? Or can I do online?",
         "neutral"
        ],
        [
         "24",
         "@VirginAmerica not worried, it's been a great ride in a new plane with great crew. All airlines should be like this.",
         "positive"
        ],
        [
         "25",
         "@VirginAmerica awesome. I flew yall Sat morning. Any way we can correct my bill ?",
         "positive"
        ],
        [
         "26",
         "@VirginAmerica Or watch some of the best student films in the country at 35,000 feet! #CMFat35000feet http://t.co/KEK5pDMGiF",
         "neutral"
        ],
        [
         "27",
         "@VirginAmerica first time flying you all. do you have a different rate/policy for media Bags? Thanks",
         "neutral"
        ],
        [
         "28",
         "@VirginAmerica what is going on with customer service? Is there anyway to speak to a human asap? Thank you.",
         "negative"
        ],
        [
         "29",
         "@VirginAmerica I've applied more then once to be a member of the #inflight crew team...Im 100% interested. #flightattendant #dreampath -G",
         "positive"
        ],
        [
         "30",
         "@VirginAmerica I’m having trouble adding this flight my wife booked to my Elevate account. Help? http://t.co/pX8hQOKS3R",
         "negative"
        ],
        [
         "31",
         "@VirginAmerica Random Q: what's the distribution of elevate avatars? I bet that kitty has a disproportionate share http://t.co/APtZpuROp4",
         "neutral"
        ],
        [
         "32",
         "@VirginAmerica \"You down with RNP?\" \"Yeah you know me!\"",
         "neutral"
        ],
        [
         "33",
         "@VirginAmerica just landed in LAX, an hour after I should of been here. Your no Late Flight bag check is not business travel friendly #nomorevirgin",
         "negative"
        ],
        [
         "34",
         "@VirginAmerica - amazing customer  service, again! 💕💕 RaeAnn in SF - she's the best! #customerservice #virginamerica #flying",
         "positive"
        ],
        [
         "35",
         "@VirginAmerica has getaway deals through May, from $59 one-way. Lots of cool cities http://t.co/RPdBpX3wNd #CheapFlights #FareCompare",
         "neutral"
        ],
        [
         "36",
         "@VirginAmerica should I be concerned that I am about to fly on a plane that needs to be delayed due to a \"tech stop\"?",
         "negative"
        ],
        [
         "37",
         "@VirginAmerica is the best airline I have flown on.Easy to change your reservation,helpful representatives &amp; a comfortable flying experience",
         "positive"
        ],
        [
         "38",
         "@VirginAmerica and again! Another rep kicked butt! Naelah represents your team so beautifully!! Thank you!!!",
         "positive"
        ],
        [
         "39",
         "@VirginAmerica your beautiful front-end design is down right now; but it was cool to still book my ticket b/c all your back-end was secure.",
         "positive"
        ],
        [
         "40",
         "@VirginAmerica Love the team running Gate E9 at LAS tonight. Waited for a delayed flight, and they kept things entertaining",
         "positive"
        ],
        [
         "41",
         "@VirginAmerica thanks to your outstanding NYC-JFK crew who moved mountains to get me home to San Francisco tonight!",
         "positive"
        ],
        [
         "42",
         "@VirginAmerica you have the absolute best team and customer service ever.  Every time I fly with you I'm delighted.  Thank you!",
         "positive"
        ],
        [
         "43",
         "@VirginAmerica Do you provide complimentary upgrades to first class, if there are available seats?",
         "neutral"
        ],
        [
         "44",
         "@VirginAmerica completely awesome experience last month BOS-LAS nonstop. Thanks for such an awesome flight and depart time. #VAbeatsJblue",
         "positive"
        ],
        [
         "45",
         "@VirginAmerica How can I watch the #Oscars2015 on my JFK-&gt;SFO flight?",
         "neutral"
        ],
        [
         "46",
         "@VirginAmerica has flight number 276 from SFO to Cabo San Lucas arrived yet?",
         "neutral"
        ],
        [
         "47",
         "@VirginAmerica, @reallytallchris dropped a track on you... https://t.co/zv2pt6TRK9",
         "neutral"
        ],
        [
         "48",
         "@VirginAmerica why can't we book seats on your flights when we buy them or even during check in? Creates so much anxiety! #frustrated",
         "negative"
        ],
        [
         "49",
         "@VirginAmerica best customer service rep in the world! #irmafromDallas takes the cake!!!",
         "positive"
        ]
       ],
       "shape": {
        "columns": 2,
        "rows": 3860
       }
      },
      "text/html": [
       "<div>\n",
       "<style scoped>\n",
       "    .dataframe tbody tr th:only-of-type {\n",
       "        vertical-align: middle;\n",
       "    }\n",
       "\n",
       "    .dataframe tbody tr th {\n",
       "        vertical-align: top;\n",
       "    }\n",
       "\n",
       "    .dataframe thead th {\n",
       "        text-align: right;\n",
       "    }\n",
       "</style>\n",
       "<table border=\"1\" class=\"dataframe\">\n",
       "  <thead>\n",
       "    <tr style=\"text-align: right;\">\n",
       "      <th></th>\n",
       "      <th>text</th>\n",
       "      <th>sentiment</th>\n",
       "    </tr>\n",
       "  </thead>\n",
       "  <tbody>\n",
       "    <tr>\n",
       "      <th>0</th>\n",
       "      <td>@VirginAmerica What @dhepburn said.</td>\n",
       "      <td>neutral</td>\n",
       "    </tr>\n",
       "    <tr>\n",
       "      <th>1</th>\n",
       "      <td>@VirginAmerica it was amazing, and arrived an ...</td>\n",
       "      <td>positive</td>\n",
       "    </tr>\n",
       "    <tr>\n",
       "      <th>2</th>\n",
       "      <td>@VirginAmerica I &amp;lt;3 pretty graphics. so muc...</td>\n",
       "      <td>positive</td>\n",
       "    </tr>\n",
       "    <tr>\n",
       "      <th>3</th>\n",
       "      <td>@VirginAmerica So excited for my first cross c...</td>\n",
       "      <td>positive</td>\n",
       "    </tr>\n",
       "    <tr>\n",
       "      <th>4</th>\n",
       "      <td>I ❤️ flying @VirginAmerica. ☺️👍</td>\n",
       "      <td>positive</td>\n",
       "    </tr>\n",
       "    <tr>\n",
       "      <th>...</th>\n",
       "      <td>...</td>\n",
       "      <td>...</td>\n",
       "    </tr>\n",
       "    <tr>\n",
       "      <th>3855</th>\n",
       "      <td>@AmericanAir Flight 236 was great. Fantastic c...</td>\n",
       "      <td>positive</td>\n",
       "    </tr>\n",
       "    <tr>\n",
       "      <th>3856</th>\n",
       "      <td>@AmericanAir Flight Cancelled Flightled, can't...</td>\n",
       "      <td>negative</td>\n",
       "    </tr>\n",
       "    <tr>\n",
       "      <th>3857</th>\n",
       "      <td>Thank you. “@AmericanAir: @jlhalldc Customer R...</td>\n",
       "      <td>positive</td>\n",
       "    </tr>\n",
       "    <tr>\n",
       "      <th>3858</th>\n",
       "      <td>@AmericanAir Thanks! He is.</td>\n",
       "      <td>positive</td>\n",
       "    </tr>\n",
       "    <tr>\n",
       "      <th>3859</th>\n",
       "      <td>@AmericanAir thx for nothing on getting us out...</td>\n",
       "      <td>negative</td>\n",
       "    </tr>\n",
       "  </tbody>\n",
       "</table>\n",
       "<p>3860 rows × 2 columns</p>\n",
       "</div>"
      ],
      "text/plain": [
       "                                                   text sentiment\n",
       "0                   @VirginAmerica What @dhepburn said.   neutral\n",
       "1     @VirginAmerica it was amazing, and arrived an ...  positive\n",
       "2     @VirginAmerica I &lt;3 pretty graphics. so muc...  positive\n",
       "3     @VirginAmerica So excited for my first cross c...  positive\n",
       "4                       I ❤️ flying @VirginAmerica. ☺️👍  positive\n",
       "...                                                 ...       ...\n",
       "3855  @AmericanAir Flight 236 was great. Fantastic c...  positive\n",
       "3856  @AmericanAir Flight Cancelled Flightled, can't...  negative\n",
       "3857  Thank you. “@AmericanAir: @jlhalldc Customer R...  positive\n",
       "3858                        @AmericanAir Thanks! He is.  positive\n",
       "3859  @AmericanAir thx for nothing on getting us out...  negative\n",
       "\n",
       "[3860 rows x 2 columns]"
      ]
     },
     "execution_count": 9,
     "metadata": {},
     "output_type": "execute_result"
    }
   ],
   "source": [
    "tweet_df"
   ]
  },
  {
   "cell_type": "code",
   "execution_count": null,
   "id": "67969aa5",
   "metadata": {},
   "outputs": [],
   "source": [
    "train, test = train_test_split(tweet_df[\"text\"], test_size=0.2,\n",
    "                               stratify=tweet_df[\"sentiment\"])"
   ]
  },
  {
   "cell_type": "code",
   "execution_count": 11,
   "id": "1a585726",
   "metadata": {},
   "outputs": [
    {
     "data": {
      "application/vnd.microsoft.datawrangler.viewer.v0+json": {
       "columns": [
        {
         "name": "index",
         "rawType": "int64",
         "type": "integer"
        },
        {
         "name": "text",
         "rawType": "object",
         "type": "string"
        }
       ],
       "ref": "ea2e9c66-1366-4e84-b315-fa0674832e1c",
       "rows": [
        [
         "2958",
         "@USAirways me and my wife will be flying out of atlanta to vegas on March 7th since couldn't get any out of tricities here in Tn"
        ],
        [
         "809",
         "@united I was well taken care of, thanks. I've already been sent a survey request &amp; I'll share my positive experience (despite delay)"
        ],
        [
         "708",
         "@united Are the current on board food menus available anywhere online?"
        ],
        [
         "418",
         "@united UA1565 IAH -&gt; SJO is delayed by like 1.5 hours. Crazy!"
        ],
        [
         "2254",
         "@JetBlue well I'm not sure I'm that bold! lol or are you saying you didn't believe me?? :P"
        ],
        [
         "2148",
         "@JetBlue ok!!! That's super helpful. Thank you. I'll reach out if I have any other questions."
        ],
        [
         "874",
         "@united that's fine. I'll take them."
        ],
        [
         "294",
         "@united Pleased to be a Premier Platinum"
        ],
        [
         "827",
         "@united I work in customer support- extremely saddened United won't waive change fee for flights I had to Cancelled Flight due to east coast storms."
        ],
        [
         "1625",
         "@SouthwestAir only 1 guest needs to change a flight on a reservation of 2. How can I do it? I NEED this to happen. Say it can...Please help!"
        ],
        [
         "2089",
         "@JetBlue I knew there was a reason u were my favorite airline. Just read you answer on twitter in globe this morning. Great job"
        ],
        [
         "2556",
         "@JetBlue huge fan of great brands and people doing great things… you guys rock happy to share the love!"
        ],
        [
         "3179",
         "@USAirways it's be nice to take a flight and have some level of consistency / service from the flight attendants. Quality control???"
        ],
        [
         "2646",
         "@USAirways citizen. I fly your airline constantly and am so offended.  Derrick Bussey. Now Im crying on this airplane because I'm so upset"
        ],
        [
         "1831",
         "@SouthwestAir landing early morning @BWI_Airport after snowfall. http://t.co/apRZsPxigE"
        ],
        [
         "2290",
         "@JetBlue's CEO #pilots among ardent fans, Wall Street - Poughkeepsie Journal http://t.co/zSdGzyDNDe"
        ],
        [
         "2129",
         "@JetBlue @L_Burley11 -- the best!!!"
        ],
        [
         "48",
         "@VirginAmerica why can't we book seats on your flights when we buy them or even during check in? Creates so much anxiety! #frustrated"
        ],
        [
         "818",
         "@united @NTrustOpen can i go  #GolfUnited"
        ],
        [
         "806",
         "@united I'll stick with my United flight. Thanks, though. Effort is much appreciated."
        ],
        [
         "1539",
         "@SouthwestAir ok, gotcha! ✈️😃👍"
        ],
        [
         "1181",
         "@SouthwestAir @matthewebel And this is why I love flying Southwest. Excellent service, and you don't take yourselves too seriously!"
        ],
        [
         "80",
         "@VirginAmerica sounds like fun !"
        ],
        [
         "612",
         "@united Wasn't frustrating! Well, not in any way reLate Flightd to y'all, anyway. Impressed that I made it."
        ],
        [
         "1906",
         "@JetBlue you found my camera!  Thank you!  You rock!"
        ],
        [
         "3400",
         "@AmericanAir Are you people cruel or just stupid? Why are you posting my personal email on the damn Internet? Have u lost your mind?!"
        ],
        [
         "743",
         "@united what's the point of offering a free checked bag of you lose it?"
        ],
        [
         "3353",
         "@AmericanAir thanks  you always be my airline of choice when possible"
        ],
        [
         "2066",
         "@JetBlue you guys rock!"
        ],
        [
         "356",
         "@united No, thanks. I'm sick of your company's lousy excuse for customer service. I'm never flying United again."
        ],
        [
         "2851",
         "@USAirways Yep, except this delay was due to a hasty and unwise decision to pushback other plane before the plows were done. #fail."
        ],
        [
         "2131",
         "@JetBlue you got yourselves hot ladies flying the air for life #loyal"
        ],
        [
         "2518",
         "@JetBlue @ProfessorpaUL15 Always happy to help!"
        ],
        [
         "571",
         "@united my flight is Late Flight due to mechanical issues 3 of 4 flights in past 10 days!"
        ],
        [
         "651",
         "@united Thank you so much for your help with my birthday trip! Tickets are confirmed! :-)"
        ],
        [
         "2108",
         "@JetBlue okay thank you! I'll check with them again!"
        ],
        [
         "1080",
         "@SouthwestAir round-trip tickets just arrived for our auction at the Post-Masters Invitational! Thanks Southwest! http://t.co/mRfBjtePef"
        ],
        [
         "714",
         "@united Thank you for your offer! All sorted out :-)"
        ],
        [
         "2372",
         "@JetBlue okay awesome! Thank you!"
        ],
        [
         "478",
         "@united Is a snowboard boot bag included in the standard checked baggage next to the snowboard bag?"
        ],
        [
         "360",
         "@united Was able to send the DM. All good now."
        ],
        [
         "1459",
         "@SouthwestAir If there are any Imagine Dragons tickets left for tomorrow at \n@VelourLive here in Utah I would love to go I am available! :)"
        ],
        [
         "2241",
         "@JetBlue I'm flying your airline just out of #LGA 😷"
        ],
        [
         "3719",
         "Thank you for sending more details  @AmericanAir: They're pretty handy dandy. more info here: http://t.co/FvlxIRh1F1 #LookforwardtoflywithAA"
        ],
        [
         "747",
         "@united education of that staff is needed - he also turned away other first class cabin passengers with mileage plus."
        ],
        [
         "532",
         "@united if I was rebooked do I have to pick up my luggage?"
        ],
        [
         "98",
         "@VirginAmerica your inflight team makes the experience #amazing!"
        ],
        [
         "2645",
         "@USAirways and I would have been willing to give him the benefit of the doubt and say we misunderstood each other until he went on a"
        ],
        [
         "2567",
         "@JetBlue A flight delay due to pilots oversleeping is apparently an uncontrollable irregularity that is not eligible for delay compensation."
        ],
        [
         "2799",
         "@USAirways I finally spoke to a person. Despite the mind boggling wait time, the rep was very pleasant and very helpful. Kudos to her."
        ]
       ],
       "shape": {
        "columns": 1,
        "rows": 3088
       }
      },
      "text/plain": [
       "2958    @USAirways me and my wife will be flying out o...\n",
       "809     @united I was well taken care of, thanks. I've...\n",
       "708     @united Are the current on board food menus av...\n",
       "418     @united UA1565 IAH -&gt; SJO is delayed by lik...\n",
       "2254    @JetBlue well I'm not sure I'm that bold! lol ...\n",
       "                              ...                        \n",
       "527     @united I have $20 and I'll draw you a super s...\n",
       "2757    @USAirways Ann Marie at LGA is the best ticket...\n",
       "3231    @AmericanAir @SouljaCoy what is AA going to do...\n",
       "3752    @AmericanAir My flight to @dfwairport was Canc...\n",
       "1222    @SouthwestAir Have had a companion pass for a ...\n",
       "Name: text, Length: 3088, dtype: object"
      ]
     },
     "execution_count": 11,
     "metadata": {},
     "output_type": "execute_result"
    }
   ],
   "source": [
    "train"
   ]
  },
  {
   "cell_type": "code",
   "execution_count": null,
   "id": "460cd679",
   "metadata": {},
   "outputs": [],
   "source": []
  }
 ],
 "metadata": {
  "kernelspec": {
   "display_name": "Python 3",
   "language": "python",
   "name": "python3"
  },
  "language_info": {
   "codemirror_mode": {
    "name": "ipython",
    "version": 3
   },
   "file_extension": ".py",
   "mimetype": "text/x-python",
   "name": "python",
   "nbconvert_exporter": "python",
   "pygments_lexer": "ipython3",
   "version": "3.12.9"
  }
 },
 "nbformat": 4,
 "nbformat_minor": 5
}
